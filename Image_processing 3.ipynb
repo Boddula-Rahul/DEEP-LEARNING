{
 "cells": [
  {
   "cell_type": "code",
   "execution_count": null,
   "id": "ae292f25-b950-48c3-a9b5-026b66898b64",
   "metadata": {},
   "outputs": [],
   "source": [
    "import pandas as pd"
   ]
  },
  {
   "cell_type": "code",
   "execution_count": null,
   "id": "81d2101b-d171-4b6a-bca4-eb4b52a50c8b",
   "metadata": {},
   "outputs": [],
   "source": [
    "import numpy as np"
   ]
  },
  {
   "cell_type": "code",
   "execution_count": null,
   "id": "03f20535-7940-4590-bf41-5d2c3717ea8a",
   "metadata": {},
   "outputs": [],
   "source": [
    "import matplotlib.pyplot as plt"
   ]
  },
  {
   "cell_type": "code",
   "execution_count": null,
   "id": "8f2ab0b6-73da-478b-832b-1f113f816834",
   "metadata": {},
   "outputs": [],
   "source": [
    "import cv2"
   ]
  },
  {
   "cell_type": "code",
   "execution_count": null,
   "id": "33ed33fc-ad93-46c0-ab1a-cee415269195",
   "metadata": {},
   "outputs": [],
   "source": [
    "white = np.ones((512,512,3))"
   ]
  },
  {
   "cell_type": "code",
   "execution_count": null,
   "id": "3e3025b3-765f-46f0-8253-b2a26ec54069",
   "metadata": {},
   "outputs": [],
   "source": [
    "white"
   ]
  },
  {
   "cell_type": "code",
   "execution_count": null,
   "id": "8bdfdf4b-a652-432e-b1fe-e1c6ee4d931a",
   "metadata": {},
   "outputs": [],
   "source": [
    "cv2.imshow(\"Window White\", white)\n",
    "cv2.waitKey(-1)"
   ]
  },
  {
   "cell_type": "code",
   "execution_count": null,
   "id": "8208fed7-b61a-413d-a1ba-7b4262048af3",
   "metadata": {},
   "outputs": [],
   "source": [
    "white.shape"
   ]
  },
  {
   "cell_type": "markdown",
   "id": "b43b46bc-5b9c-4420-a301-b6535ebd63c3",
   "metadata": {},
   "source": [
    "### Rectangle Image"
   ]
  },
  {
   "cell_type": "code",
   "execution_count": null,
   "id": "e5e47cb5-e89a-4100-a963-4322572a1b9f",
   "metadata": {},
   "outputs": [],
   "source": [
    "rect = cv2.rectangle(white, pt1 = (50,50), pt2 = (300,250), color = (255,0,0), thickness = 3)"
   ]
  },
  {
   "cell_type": "code",
   "execution_count": null,
   "id": "fa94246c-1c1b-4cb5-ae97-f2a5c77670f8",
   "metadata": {},
   "outputs": [],
   "source": [
    "cv2.imshow(\"Rectangle\", rect )\n",
    "cv2.waitKey(-1)"
   ]
  },
  {
   "cell_type": "code",
   "execution_count": null,
   "id": "0a34c87b-1699-4b1a-ad01-6a657a810f62",
   "metadata": {},
   "outputs": [],
   "source": [
    "rect1 = cv2.rectangle(white, pt1 = (50,50), pt2 = (300,250), color = (255,0,0), thickness = -1)"
   ]
  },
  {
   "cell_type": "code",
   "execution_count": null,
   "id": "e592acd2-2516-4e59-a9f0-07ec6bda8912",
   "metadata": {},
   "outputs": [],
   "source": [
    "cv2.imshow(\"Rectangle\", rect1 )\n",
    "cv2.waitKey(-1)"
   ]
  },
  {
   "cell_type": "code",
   "execution_count": null,
   "id": "fcd7db49-c8b8-4776-9b53-83c835b940b7",
   "metadata": {},
   "outputs": [],
   "source": [
    "dark = np.zeros((512, 512,3))"
   ]
  },
  {
   "cell_type": "code",
   "execution_count": null,
   "id": "58dbd6dd-a24d-4eb7-acd0-766fb80f9580",
   "metadata": {},
   "outputs": [],
   "source": [
    "cv2.imshow(\"DARK\", dark)\n",
    "cv2.waitKey(-1)"
   ]
  },
  {
   "cell_type": "markdown",
   "id": "00ec100f-ef24-4abd-ad8b-e042b2b7d3fb",
   "metadata": {},
   "source": [
    "### Circle "
   ]
  },
  {
   "cell_type": "code",
   "execution_count": null,
   "id": "7924272e-d85d-413d-bf89-281450642845",
   "metadata": {},
   "outputs": [],
   "source": [
    "dark_image = cv2.circle(dark,(100,100),60, color = (0,255,0), thickness = 3 )"
   ]
  },
  {
   "cell_type": "code",
   "execution_count": null,
   "id": "974d3a44-d6cc-45c1-890b-b951291ab0e0",
   "metadata": {},
   "outputs": [],
   "source": [
    "cv2.imshow(\"CIRCLE\", dark_image)\n",
    "cv2.waitKey(-1)"
   ]
  },
  {
   "cell_type": "code",
   "execution_count": null,
   "id": "5302f08e-faae-41b6-b1ac-c65f4f6e63db",
   "metadata": {},
   "outputs": [],
   "source": [
    "dark_image1 = cv2.circle(dark,(256,256),50, color = (0,255,0), thickness = -1 )"
   ]
  },
  {
   "cell_type": "code",
   "execution_count": null,
   "id": "72d0a5d0-be33-4e3f-ab1d-80a4ea58fd59",
   "metadata": {},
   "outputs": [],
   "source": [
    "cv2.imshow(\"CIRCLE1\", dark_image1)\n",
    "cv2.waitKey(-1)"
   ]
  },
  {
   "cell_type": "code",
   "execution_count": null,
   "id": "e356ec92-f270-4381-89bb-cc00cc9de95d",
   "metadata": {},
   "outputs": [],
   "source": [
    "cv2.imshow(\"CIRCLE\", dark_image)\n",
    "cv2.imshow(\"CIRCLE1\", dark_image1)\n",
    "cv2.waitKey(-1)"
   ]
  },
  {
   "cell_type": "markdown",
   "id": "ae0193ff-eaf8-4ee5-9f4e-9fd9bb9215a7",
   "metadata": {},
   "source": [
    "### Line"
   ]
  },
  {
   "cell_type": "code",
   "execution_count": null,
   "id": "5df8e46c-afd5-4a22-ae86-bcb674ac2a79",
   "metadata": {},
   "outputs": [],
   "source": [
    "white1 = np.ones((512,512,3))"
   ]
  },
  {
   "cell_type": "code",
   "execution_count": null,
   "id": "cdc25abe-6f82-498b-bd4c-e6603003e471",
   "metadata": {},
   "outputs": [],
   "source": [
    "cv2.imshow(\"Window White\", white1)\n",
    "cv2.waitKey(-1)"
   ]
  },
  {
   "cell_type": "code",
   "execution_count": null,
   "id": "c4144d38-196c-4ca1-9108-bb554cd13530",
   "metadata": {},
   "outputs": [],
   "source": [
    "line = cv2.line(white1, (0,0),(512,512), color = (255,0,0), thickness = 3)"
   ]
  },
  {
   "cell_type": "code",
   "execution_count": null,
   "id": "5a23db14-ec51-4c64-a637-099463ac26e2",
   "metadata": {},
   "outputs": [],
   "source": [
    "cv2.imshow(\"line\", line)\n",
    "cv2.waitKey(-1)"
   ]
  },
  {
   "cell_type": "code",
   "execution_count": null,
   "id": "fa0e4de6-e581-417a-9250-ff6e5548a5a3",
   "metadata": {},
   "outputs": [],
   "source": [
    "line1 = cv2.line(white1, (0,512),(512,0), color = (255,0,0), thickness = 3)"
   ]
  },
  {
   "cell_type": "code",
   "execution_count": null,
   "id": "44a8de1c-3bde-4eed-8ac6-29b2092eca46",
   "metadata": {},
   "outputs": [],
   "source": [
    "cv2.imshow(\"line\", line1)\n",
    "cv2.waitKey(-1)"
   ]
  },
  {
   "cell_type": "code",
   "execution_count": null,
   "id": "a7e46162-d2bb-4cda-9ff2-b1d1d918d953",
   "metadata": {},
   "outputs": [],
   "source": [
    "line2 = cv2.line(white1, (256,512),(256,0), color = (255,0,0), thickness = 3)"
   ]
  },
  {
   "cell_type": "code",
   "execution_count": null,
   "id": "052b47f3-7105-4b8b-a5d2-e3087ac43364",
   "metadata": {},
   "outputs": [],
   "source": [
    "cv2.imshow(\"line\", line2)\n",
    "cv2.waitKey(-1)"
   ]
  },
  {
   "cell_type": "code",
   "execution_count": null,
   "id": "a9eccbe8-b061-4658-95d7-7866514404f7",
   "metadata": {},
   "outputs": [],
   "source": [
    "black = np.zeros((512,512, 3))"
   ]
  },
  {
   "cell_type": "code",
   "execution_count": null,
   "id": "95db2c1c-0e7a-41dc-a225-8621a825a035",
   "metadata": {},
   "outputs": [],
   "source": [
    "cv2.imshow(\"BLACK IMG\", black)\n",
    "cv2.waitKey(-1)"
   ]
  },
  {
   "cell_type": "code",
   "execution_count": null,
   "id": "065c3c73-e04f-4ed5-8227-c6f7313a1731",
   "metadata": {},
   "outputs": [],
   "source": [
    "black = cv2.putText(black,\"welcome\", (100,200), fontFace = cv2.FONT_ITALIC, fontScale = 3, color = (0,255,0), thickness = 2 )"
   ]
  },
  {
   "cell_type": "code",
   "execution_count": null,
   "id": "1ec9739a-23d6-48ba-8384-5606d78520ea",
   "metadata": {},
   "outputs": [],
   "source": [
    "cv2.imshow(\"BLACK IMG\", black)\n",
    "cv2.waitKey(-1)"
   ]
  },
  {
   "cell_type": "code",
   "execution_count": null,
   "id": "186ad585-8eea-4480-a41c-b4b87c637d4f",
   "metadata": {},
   "outputs": [],
   "source": []
  },
  {
   "cell_type": "code",
   "execution_count": null,
   "id": "155f062f-ffc0-427c-b033-0384b5171391",
   "metadata": {},
   "outputs": [],
   "source": []
  }
 ],
 "metadata": {
  "kernelspec": {
   "display_name": "Python 3 (ipykernel)",
   "language": "python",
   "name": "python3"
  },
  "language_info": {
   "codemirror_mode": {
    "name": "ipython",
    "version": 3
   },
   "file_extension": ".py",
   "mimetype": "text/x-python",
   "name": "python",
   "nbconvert_exporter": "python",
   "pygments_lexer": "ipython3",
   "version": "3.12.4"
  }
 },
 "nbformat": 4,
 "nbformat_minor": 5
}
