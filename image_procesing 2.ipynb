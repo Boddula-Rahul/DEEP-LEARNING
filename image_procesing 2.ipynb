{
 "cells": [
  {
   "cell_type": "code",
   "execution_count": 6,
   "id": "d40a8051-f231-4050-b7a2-07e6200776b6",
   "metadata": {},
   "outputs": [],
   "source": [
    "import pandas as pd"
   ]
  },
  {
   "cell_type": "code",
   "execution_count": 7,
   "id": "151b1dae-3d53-46ef-adbf-436c72e3c6e7",
   "metadata": {},
   "outputs": [],
   "source": [
    "import numpy as np"
   ]
  },
  {
   "cell_type": "code",
   "execution_count": 8,
   "id": "ba79a813-38c4-4268-a3dd-0c2a6ade8b0c",
   "metadata": {},
   "outputs": [],
   "source": [
    "import matplotlib.pyplot as plt"
   ]
  },
  {
   "cell_type": "code",
   "execution_count": 9,
   "id": "bf719a20-01b9-46aa-bdba-3037c7478813",
   "metadata": {},
   "outputs": [],
   "source": [
    "import cv2"
   ]
  },
  {
   "cell_type": "markdown",
   "id": "446743dd-1d27-4324-a337-d013cd63a1c6",
   "metadata": {},
   "source": [
    "### Resize image"
   ]
  },
  {
   "cell_type": "code",
   "execution_count": 10,
   "id": "c698fabc-ce33-461c-aa1c-c5c07ba401dc",
   "metadata": {},
   "outputs": [],
   "source": [
    "india = cv2.imread(r\"C:\\Users\\pc\\Desktop\\india.jpg\")"
   ]
  },
  {
   "cell_type": "code",
   "execution_count": 11,
   "id": "cc1b0033-0abc-4f09-95a1-29825fdfb52a",
   "metadata": {},
   "outputs": [
    {
     "data": {
      "text/plain": [
       "-1"
      ]
     },
     "execution_count": 11,
     "metadata": {},
     "output_type": "execute_result"
    }
   ],
   "source": [
    "cv2.imshow(\"INDIA\", india )\n",
    "cv2.waitKey(-1)"
   ]
  },
  {
   "cell_type": "code",
   "execution_count": 12,
   "id": "b985bf2a-509e-4a10-a693-981de48f3aa6",
   "metadata": {},
   "outputs": [
    {
     "data": {
      "text/plain": [
       "(932, 850, 3)"
      ]
     },
     "execution_count": 12,
     "metadata": {},
     "output_type": "execute_result"
    }
   ],
   "source": [
    "india.shape"
   ]
  },
  {
   "cell_type": "code",
   "execution_count": 13,
   "id": "cab29e95-62ab-42a0-876f-208179901c0b",
   "metadata": {},
   "outputs": [],
   "source": [
    "india_medium = cv2.resize(india, (500,500))"
   ]
  },
  {
   "cell_type": "code",
   "execution_count": 15,
   "id": "7b6c551b-e339-443f-b9d5-dd5b0b3313e0",
   "metadata": {},
   "outputs": [
    {
     "data": {
      "text/plain": [
       "array([[[117, 163, 189],\n",
       "        [117, 163, 189],\n",
       "        [117, 163, 189],\n",
       "        ...,\n",
       "        [111, 164, 189],\n",
       "        [111, 164, 189],\n",
       "        [111, 164, 189]],\n",
       "\n",
       "       [[117, 163, 189],\n",
       "        [117, 163, 189],\n",
       "        [117, 163, 189],\n",
       "        ...,\n",
       "        [111, 164, 189],\n",
       "        [111, 164, 189],\n",
       "        [111, 164, 189]],\n",
       "\n",
       "       [[117, 163, 189],\n",
       "        [117, 163, 189],\n",
       "        [117, 163, 189],\n",
       "        ...,\n",
       "        [111, 164, 189],\n",
       "        [111, 164, 189],\n",
       "        [111, 164, 189]],\n",
       "\n",
       "       ...,\n",
       "\n",
       "       [[255, 177,   1],\n",
       "        [255, 177,   1],\n",
       "        [255, 177,   1],\n",
       "        ...,\n",
       "        [255, 177,   1],\n",
       "        [255, 177,   1],\n",
       "        [255, 177,   1]],\n",
       "\n",
       "       [[255, 177,   1],\n",
       "        [255, 177,   1],\n",
       "        [255, 177,   1],\n",
       "        ...,\n",
       "        [255, 177,   1],\n",
       "        [255, 177,   1],\n",
       "        [255, 177,   1]],\n",
       "\n",
       "       [[255, 177,   1],\n",
       "        [255, 177,   1],\n",
       "        [255, 177,   1],\n",
       "        ...,\n",
       "        [255, 177,   1],\n",
       "        [255, 177,   1],\n",
       "        [255, 177,   1]]], dtype=uint8)"
      ]
     },
     "execution_count": 15,
     "metadata": {},
     "output_type": "execute_result"
    }
   ],
   "source": [
    "india_medium"
   ]
  },
  {
   "cell_type": "code",
   "execution_count": 16,
   "id": "5bedf4d3-e47b-4f95-98c1-46a7f8956345",
   "metadata": {},
   "outputs": [
    {
     "data": {
      "text/plain": [
       "-1"
      ]
     },
     "execution_count": 16,
     "metadata": {},
     "output_type": "execute_result"
    }
   ],
   "source": [
    "cv2.imshow(\"window\", india_medium)\n",
    "cv2.waitKey(-1)"
   ]
  },
  {
   "cell_type": "code",
   "execution_count": 17,
   "id": "07af4b4d-53a4-4ccd-ae3e-61347744087b",
   "metadata": {},
   "outputs": [],
   "source": [
    "india_small = cv2.resize(india, (250,250))"
   ]
  },
  {
   "cell_type": "code",
   "execution_count": 18,
   "id": "e24f48ec-c1ec-494b-bb9b-28f27b477842",
   "metadata": {},
   "outputs": [
    {
     "data": {
      "text/plain": [
       "array([[[117, 163, 189],\n",
       "        [117, 163, 189],\n",
       "        [117, 163, 189],\n",
       "        ...,\n",
       "        [111, 164, 189],\n",
       "        [111, 164, 189],\n",
       "        [111, 164, 189]],\n",
       "\n",
       "       [[117, 163, 189],\n",
       "        [117, 163, 189],\n",
       "        [117, 163, 189],\n",
       "        ...,\n",
       "        [111, 164, 189],\n",
       "        [111, 164, 189],\n",
       "        [111, 164, 189]],\n",
       "\n",
       "       [[117, 163, 189],\n",
       "        [117, 163, 189],\n",
       "        [117, 163, 189],\n",
       "        ...,\n",
       "        [111, 164, 189],\n",
       "        [111, 164, 189],\n",
       "        [111, 164, 189]],\n",
       "\n",
       "       ...,\n",
       "\n",
       "       [[255, 177,   1],\n",
       "        [255, 177,   1],\n",
       "        [255, 177,   1],\n",
       "        ...,\n",
       "        [255, 177,   1],\n",
       "        [255, 177,   1],\n",
       "        [255, 177,   1]],\n",
       "\n",
       "       [[255, 177,   1],\n",
       "        [255, 177,   1],\n",
       "        [255, 177,   1],\n",
       "        ...,\n",
       "        [255, 177,   1],\n",
       "        [255, 177,   1],\n",
       "        [255, 177,   1]],\n",
       "\n",
       "       [[255, 177,   1],\n",
       "        [255, 177,   1],\n",
       "        [255, 177,   1],\n",
       "        ...,\n",
       "        [255, 177,   1],\n",
       "        [255, 177,   1],\n",
       "        [255, 177,   1]]], dtype=uint8)"
      ]
     },
     "execution_count": 18,
     "metadata": {},
     "output_type": "execute_result"
    }
   ],
   "source": [
    "india_small"
   ]
  },
  {
   "cell_type": "code",
   "execution_count": 19,
   "id": "94a69225-f4bc-4b5e-a8c8-dc88e4dcc171",
   "metadata": {},
   "outputs": [
    {
     "data": {
      "text/plain": [
       "-1"
      ]
     },
     "execution_count": 19,
     "metadata": {},
     "output_type": "execute_result"
    }
   ],
   "source": [
    "cv2.imshow(\"small\", india_small)\n",
    "cv2.waitKey(-1)"
   ]
  },
  {
   "cell_type": "code",
   "execution_count": 21,
   "id": "04d19bef-7dd9-4d82-a05d-d428b4771b64",
   "metadata": {},
   "outputs": [
    {
     "data": {
      "text/plain": [
       "-1"
      ]
     },
     "execution_count": 21,
     "metadata": {},
     "output_type": "execute_result"
    }
   ],
   "source": [
    "cv2.imshow(\"INDIA\", india )\n",
    "\n",
    "cv2.imshow(\"window\", india_medium)\n",
    "\n",
    "cv2.imshow(\"small\", india_small)\n",
    "cv2.waitKey(-1)"
   ]
  },
  {
   "cell_type": "code",
   "execution_count": 22,
   "id": "49c2b98b-1e90-41fb-8aee-4481baad77a1",
   "metadata": {},
   "outputs": [],
   "source": [
    "rabbit = cv2.imread(r\"C:\\Users\\pc\\Desktop\\rabbit.jpg\")"
   ]
  },
  {
   "cell_type": "code",
   "execution_count": 54,
   "id": "b6ed32a1-3794-4ac4-a4d0-8730878613dd",
   "metadata": {},
   "outputs": [
    {
     "data": {
      "text/plain": [
       "-1"
      ]
     },
     "execution_count": 54,
     "metadata": {},
     "output_type": "execute_result"
    }
   ],
   "source": [
    "cv2.imshow(\"rabbit image\", rabbit)\n",
    "cv2.waitKey(-1)"
   ]
  },
  {
   "cell_type": "code",
   "execution_count": 24,
   "id": "65eb1fdc-37b1-46df-896e-450fd23c78ba",
   "metadata": {},
   "outputs": [
    {
     "data": {
      "text/plain": [
       "(512, 512, 3)"
      ]
     },
     "execution_count": 24,
     "metadata": {},
     "output_type": "execute_result"
    }
   ],
   "source": [
    "rabbit.shape"
   ]
  },
  {
   "cell_type": "code",
   "execution_count": 29,
   "id": "a0caca55-8a5b-41d9-9661-355cd77546f5",
   "metadata": {},
   "outputs": [],
   "source": [
    "rabbit_large = cv2.resize(rabbit, (600,600))"
   ]
  },
  {
   "cell_type": "code",
   "execution_count": 30,
   "id": "f3ecca28-ca94-415b-b4d3-eeedafc2fa5b",
   "metadata": {},
   "outputs": [
    {
     "data": {
      "text/plain": [
       "-1"
      ]
     },
     "execution_count": 30,
     "metadata": {},
     "output_type": "execute_result"
    }
   ],
   "source": [
    "cv2.imshow(\"LARGE\", rabbit_large)\n",
    "cv2.waitKey(-1)"
   ]
  },
  {
   "cell_type": "code",
   "execution_count": 31,
   "id": "526f01d4-8881-4694-a8c6-a06b5b19bdcd",
   "metadata": {},
   "outputs": [
    {
     "data": {
      "text/plain": [
       "-1"
      ]
     },
     "execution_count": 31,
     "metadata": {},
     "output_type": "execute_result"
    }
   ],
   "source": [
    "cv2.imshow(\"rabbit image\", rabbit)\n",
    "\n",
    "cv2.imshow(\"LARGE\", rabbit_large)\n",
    "cv2.waitKey(-1)"
   ]
  },
  {
   "cell_type": "code",
   "execution_count": 32,
   "id": "90daa292-75f0-4eca-b45e-16839028cf2d",
   "metadata": {},
   "outputs": [
    {
     "data": {
      "text/plain": [
       "True"
      ]
     },
     "execution_count": 32,
     "metadata": {},
     "output_type": "execute_result"
    }
   ],
   "source": [
    "cv2.imwrite(\"rabbit.jpg\", rabbit)"
   ]
  },
  {
   "cell_type": "code",
   "execution_count": 33,
   "id": "cabd83c0-95c8-4912-bc73-c9c78b560a17",
   "metadata": {},
   "outputs": [
    {
     "data": {
      "text/plain": [
       "True"
      ]
     },
     "execution_count": 33,
     "metadata": {},
     "output_type": "execute_result"
    }
   ],
   "source": [
    "cv2.imwrite(\"rabbit_large.jpg\", rabbit_large)"
   ]
  },
  {
   "cell_type": "markdown",
   "id": "2b81eb5d-a263-4278-920a-f5d6b40c6f74",
   "metadata": {},
   "source": [
    "### Flip Image"
   ]
  },
  {
   "cell_type": "code",
   "execution_count": 34,
   "id": "2fd16ec9-3411-4840-8c18-260074edc60b",
   "metadata": {},
   "outputs": [
    {
     "data": {
      "text/plain": [
       "-1"
      ]
     },
     "execution_count": 34,
     "metadata": {},
     "output_type": "execute_result"
    }
   ],
   "source": [
    "cv2.imshow(\"INDIA\", india_medium)\n",
    "cv2.waitKey(-1)"
   ]
  },
  {
   "cell_type": "code",
   "execution_count": 36,
   "id": "8cb4a33c-985f-4677-b22b-a212f7e80aef",
   "metadata": {},
   "outputs": [],
   "source": [
    "india_flip_zero = cv2.flip(india_medium, 0)"
   ]
  },
  {
   "cell_type": "code",
   "execution_count": 41,
   "id": "ef118eca-f47f-40bf-93ee-800e92ac9407",
   "metadata": {},
   "outputs": [
    {
     "data": {
      "text/plain": [
       "-1"
      ]
     },
     "execution_count": 41,
     "metadata": {},
     "output_type": "execute_result"
    }
   ],
   "source": [
    "cv2.imshow(\"INDIA\", india_flip_zero)\n",
    "cv2.waitKey(-1)"
   ]
  },
  {
   "cell_type": "code",
   "execution_count": 39,
   "id": "aa60df3c-8f67-426e-a605-877e1fa68e88",
   "metadata": {},
   "outputs": [],
   "source": [
    "india_flip_one = cv2.flip(india_medium, 1)"
   ]
  },
  {
   "cell_type": "code",
   "execution_count": 40,
   "id": "9083953e-8d6f-424a-9c43-a264b520d86c",
   "metadata": {},
   "outputs": [
    {
     "data": {
      "text/plain": [
       "-1"
      ]
     },
     "execution_count": 40,
     "metadata": {},
     "output_type": "execute_result"
    }
   ],
   "source": [
    "cv2.imshow(\"INDIA\", india_flip_one)\n",
    "cv2.waitKey(-1)"
   ]
  },
  {
   "cell_type": "code",
   "execution_count": 43,
   "id": "f97ba7f0-a0f0-4859-8541-92949d8be05e",
   "metadata": {},
   "outputs": [
    {
     "data": {
      "text/plain": [
       "-1"
      ]
     },
     "execution_count": 43,
     "metadata": {},
     "output_type": "execute_result"
    }
   ],
   "source": [
    "cv2.imshow(\"INDIA\", india_medium)\n",
    "cv2.waitKey(-1)\n",
    "cv2.imshow(\"INDIA\", india_flip_zero)\n",
    "cv2.waitKey(-1)\n",
    "cv2.imshow(\"INDIA\", india_flip_one)\n",
    "cv2.waitKey(-1)\n"
   ]
  },
  {
   "cell_type": "code",
   "execution_count": 46,
   "id": "50251a56-4fff-4d93-a8ef-f85936539fde",
   "metadata": {},
   "outputs": [
    {
     "data": {
      "text/plain": [
       "-1"
      ]
     },
     "execution_count": 46,
     "metadata": {},
     "output_type": "execute_result"
    }
   ],
   "source": [
    "cv2.imshow(\"INDIA1\", india_medium)\n",
    "\n",
    "cv2.imshow(\"INDIA2\", india_flip_zero)\n",
    "\n",
    "cv2.imshow(\"INDIA3\", india_flip_one)\n",
    "cv2.waitKey(-1)"
   ]
  },
  {
   "cell_type": "code",
   "execution_count": 44,
   "id": "e4e4ce68-49fb-4d55-b1f4-0e229ea663ba",
   "metadata": {},
   "outputs": [],
   "source": [
    "india_flip_two = cv2.flip(india_medium, 2)"
   ]
  },
  {
   "cell_type": "code",
   "execution_count": 50,
   "id": "7b009029-c3d3-4810-9877-a7b55b31f7fe",
   "metadata": {},
   "outputs": [
    {
     "data": {
      "text/plain": [
       "-1"
      ]
     },
     "execution_count": 50,
     "metadata": {},
     "output_type": "execute_result"
    }
   ],
   "source": [
    "cv2.imshow(\"INDIA4\", india_flip_two)\n",
    "cv2.waitKey(-1)"
   ]
  },
  {
   "cell_type": "code",
   "execution_count": 48,
   "id": "a4225bf1-d72e-498d-a6f1-5b682af0c05b",
   "metadata": {},
   "outputs": [],
   "source": [
    "india_flip_neg = cv2.flip(india_medium, -1)"
   ]
  },
  {
   "cell_type": "code",
   "execution_count": 51,
   "id": "dac69f40-4967-473e-aa9f-78d953019fbe",
   "metadata": {},
   "outputs": [
    {
     "data": {
      "text/plain": [
       "-1"
      ]
     },
     "execution_count": 51,
     "metadata": {},
     "output_type": "execute_result"
    }
   ],
   "source": [
    "cv2.imshow(\"INDIA5\", india_flip_neg)\n",
    "cv2.waitKey(-1)"
   ]
  },
  {
   "cell_type": "code",
   "execution_count": 52,
   "id": "da1e80ae-bafb-47fb-bb45-7eaa303d8a9e",
   "metadata": {},
   "outputs": [
    {
     "data": {
      "text/plain": [
       "-1"
      ]
     },
     "execution_count": 52,
     "metadata": {},
     "output_type": "execute_result"
    }
   ],
   "source": [
    "cv2.imshow(\"INDIA1\", india_medium)\n",
    "\n",
    "cv2.imshow(\"INDIA2\", india_flip_zero)\n",
    "\n",
    "cv2.imshow(\"INDIA3\", india_flip_one)\n",
    "cv2.imshow(\"INDIA5\", india_flip_neg)\n",
    "cv2.waitKey(-1)"
   ]
  },
  {
   "cell_type": "markdown",
   "id": "61c69e67-cf9c-4602-a984-4197a73875b9",
   "metadata": {},
   "source": [
    "### Cropping"
   ]
  },
  {
   "cell_type": "code",
   "execution_count": 53,
   "id": "77462711-5045-4e50-b640-38a26e28addc",
   "metadata": {},
   "outputs": [
    {
     "data": {
      "text/plain": [
       "(512, 512, 3)"
      ]
     },
     "execution_count": 53,
     "metadata": {},
     "output_type": "execute_result"
    }
   ],
   "source": [
    "rabbit.shape"
   ]
  },
  {
   "cell_type": "code",
   "execution_count": 83,
   "id": "d940e7d4-75ce-44db-ab3a-cff1a70d2287",
   "metadata": {},
   "outputs": [],
   "source": [
    "rabbit_crop1 = rabbit[50: 400, 120: 400]"
   ]
  },
  {
   "cell_type": "code",
   "execution_count": 84,
   "id": "53d41e78-3fb7-4853-8961-c725be93c988",
   "metadata": {},
   "outputs": [
    {
     "data": {
      "text/plain": [
       "-1"
      ]
     },
     "execution_count": 84,
     "metadata": {},
     "output_type": "execute_result"
    }
   ],
   "source": [
    "cv2.imshow(\"CROP\", rabbit_crop1)\n",
    "cv2.waitKey(-1)"
   ]
  },
  {
   "cell_type": "markdown",
   "id": "100a894f-c533-4c48-b205-8661b9f60683",
   "metadata": {},
   "source": [
    "### Plain Image"
   ]
  },
  {
   "cell_type": "code",
   "execution_count": 85,
   "id": "032fb010-3de0-45f6-8f5a-5d949155d37c",
   "metadata": {},
   "outputs": [],
   "source": [
    "wimg = np.ones((512,512, 3))"
   ]
  },
  {
   "cell_type": "code",
   "execution_count": 86,
   "id": "4df9124a-dd30-4cd9-8766-0ec35a25afb5",
   "metadata": {},
   "outputs": [
    {
     "data": {
      "text/plain": [
       "array([[[1., 1., 1.],\n",
       "        [1., 1., 1.],\n",
       "        [1., 1., 1.],\n",
       "        ...,\n",
       "        [1., 1., 1.],\n",
       "        [1., 1., 1.],\n",
       "        [1., 1., 1.]],\n",
       "\n",
       "       [[1., 1., 1.],\n",
       "        [1., 1., 1.],\n",
       "        [1., 1., 1.],\n",
       "        ...,\n",
       "        [1., 1., 1.],\n",
       "        [1., 1., 1.],\n",
       "        [1., 1., 1.]],\n",
       "\n",
       "       [[1., 1., 1.],\n",
       "        [1., 1., 1.],\n",
       "        [1., 1., 1.],\n",
       "        ...,\n",
       "        [1., 1., 1.],\n",
       "        [1., 1., 1.],\n",
       "        [1., 1., 1.]],\n",
       "\n",
       "       ...,\n",
       "\n",
       "       [[1., 1., 1.],\n",
       "        [1., 1., 1.],\n",
       "        [1., 1., 1.],\n",
       "        ...,\n",
       "        [1., 1., 1.],\n",
       "        [1., 1., 1.],\n",
       "        [1., 1., 1.]],\n",
       "\n",
       "       [[1., 1., 1.],\n",
       "        [1., 1., 1.],\n",
       "        [1., 1., 1.],\n",
       "        ...,\n",
       "        [1., 1., 1.],\n",
       "        [1., 1., 1.],\n",
       "        [1., 1., 1.]],\n",
       "\n",
       "       [[1., 1., 1.],\n",
       "        [1., 1., 1.],\n",
       "        [1., 1., 1.],\n",
       "        ...,\n",
       "        [1., 1., 1.],\n",
       "        [1., 1., 1.],\n",
       "        [1., 1., 1.]]])"
      ]
     },
     "execution_count": 86,
     "metadata": {},
     "output_type": "execute_result"
    }
   ],
   "source": [
    "wimg"
   ]
  },
  {
   "cell_type": "code",
   "execution_count": 87,
   "id": "0577a994-71f1-4ea1-88bd-0f3ffb830ca9",
   "metadata": {},
   "outputs": [
    {
     "data": {
      "text/plain": [
       "-1"
      ]
     },
     "execution_count": 87,
     "metadata": {},
     "output_type": "execute_result"
    }
   ],
   "source": [
    "cv2.imshow(\"WHITE IMAGE\", wimg)\n",
    "cv2.waitKey(-1)"
   ]
  },
  {
   "cell_type": "code",
   "execution_count": 88,
   "id": "8a47d002-2525-457d-a99a-f0c518d4ed68",
   "metadata": {},
   "outputs": [],
   "source": [
    "dimg = np.zeros(( 512,512, 3))"
   ]
  },
  {
   "cell_type": "code",
   "execution_count": 89,
   "id": "81ee6926-16f8-4454-aa76-6751a7a2090d",
   "metadata": {},
   "outputs": [
    {
     "data": {
      "text/plain": [
       "array([[[0., 0., 0.],\n",
       "        [0., 0., 0.],\n",
       "        [0., 0., 0.],\n",
       "        ...,\n",
       "        [0., 0., 0.],\n",
       "        [0., 0., 0.],\n",
       "        [0., 0., 0.]],\n",
       "\n",
       "       [[0., 0., 0.],\n",
       "        [0., 0., 0.],\n",
       "        [0., 0., 0.],\n",
       "        ...,\n",
       "        [0., 0., 0.],\n",
       "        [0., 0., 0.],\n",
       "        [0., 0., 0.]],\n",
       "\n",
       "       [[0., 0., 0.],\n",
       "        [0., 0., 0.],\n",
       "        [0., 0., 0.],\n",
       "        ...,\n",
       "        [0., 0., 0.],\n",
       "        [0., 0., 0.],\n",
       "        [0., 0., 0.]],\n",
       "\n",
       "       ...,\n",
       "\n",
       "       [[0., 0., 0.],\n",
       "        [0., 0., 0.],\n",
       "        [0., 0., 0.],\n",
       "        ...,\n",
       "        [0., 0., 0.],\n",
       "        [0., 0., 0.],\n",
       "        [0., 0., 0.]],\n",
       "\n",
       "       [[0., 0., 0.],\n",
       "        [0., 0., 0.],\n",
       "        [0., 0., 0.],\n",
       "        ...,\n",
       "        [0., 0., 0.],\n",
       "        [0., 0., 0.],\n",
       "        [0., 0., 0.]],\n",
       "\n",
       "       [[0., 0., 0.],\n",
       "        [0., 0., 0.],\n",
       "        [0., 0., 0.],\n",
       "        ...,\n",
       "        [0., 0., 0.],\n",
       "        [0., 0., 0.],\n",
       "        [0., 0., 0.]]])"
      ]
     },
     "execution_count": 89,
     "metadata": {},
     "output_type": "execute_result"
    }
   ],
   "source": [
    "dimg"
   ]
  },
  {
   "cell_type": "code",
   "execution_count": 90,
   "id": "66e162f3-3793-4930-8d20-3b99eb968aaa",
   "metadata": {},
   "outputs": [
    {
     "data": {
      "text/plain": [
       "-1"
      ]
     },
     "execution_count": 90,
     "metadata": {},
     "output_type": "execute_result"
    }
   ],
   "source": [
    "cv2.imshow(\"DARK\", dimg)\n",
    "cv2.waitKey(-1)"
   ]
  },
  {
   "cell_type": "code",
   "execution_count": 92,
   "id": "707cac61-133a-4e1f-9b8a-2e08403e7474",
   "metadata": {},
   "outputs": [
    {
     "data": {
      "text/plain": [
       "-1"
      ]
     },
     "execution_count": 92,
     "metadata": {},
     "output_type": "execute_result"
    }
   ],
   "source": [
    "cv2.imshow(\"WHITE IMAGE\", wimg)\n",
    "cv2.imshow(\"DARK\", dimg)\n",
    "cv2.waitKey(-1)"
   ]
  },
  {
   "cell_type": "markdown",
   "id": "b5290eac-2233-4313-85da-62f2f3a8494c",
   "metadata": {},
   "source": [
    "### Rectangle"
   ]
  },
  {
   "cell_type": "code",
   "execution_count": 93,
   "id": "f46af92c-541b-426a-b1a6-67bf8779cdcc",
   "metadata": {},
   "outputs": [],
   "source": [
    "rect = cv2.rectangle(wimg,pt1 = (50,50), pt2 = (300,200), color = (255,0,0), thickness = 3)"
   ]
  },
  {
   "cell_type": "code",
   "execution_count": 94,
   "id": "eb8ab56a-ed44-4356-9a6d-0a0e21088eaa",
   "metadata": {},
   "outputs": [
    {
     "data": {
      "text/plain": [
       "array([[[1., 1., 1.],\n",
       "        [1., 1., 1.],\n",
       "        [1., 1., 1.],\n",
       "        ...,\n",
       "        [1., 1., 1.],\n",
       "        [1., 1., 1.],\n",
       "        [1., 1., 1.]],\n",
       "\n",
       "       [[1., 1., 1.],\n",
       "        [1., 1., 1.],\n",
       "        [1., 1., 1.],\n",
       "        ...,\n",
       "        [1., 1., 1.],\n",
       "        [1., 1., 1.],\n",
       "        [1., 1., 1.]],\n",
       "\n",
       "       [[1., 1., 1.],\n",
       "        [1., 1., 1.],\n",
       "        [1., 1., 1.],\n",
       "        ...,\n",
       "        [1., 1., 1.],\n",
       "        [1., 1., 1.],\n",
       "        [1., 1., 1.]],\n",
       "\n",
       "       ...,\n",
       "\n",
       "       [[1., 1., 1.],\n",
       "        [1., 1., 1.],\n",
       "        [1., 1., 1.],\n",
       "        ...,\n",
       "        [1., 1., 1.],\n",
       "        [1., 1., 1.],\n",
       "        [1., 1., 1.]],\n",
       "\n",
       "       [[1., 1., 1.],\n",
       "        [1., 1., 1.],\n",
       "        [1., 1., 1.],\n",
       "        ...,\n",
       "        [1., 1., 1.],\n",
       "        [1., 1., 1.],\n",
       "        [1., 1., 1.]],\n",
       "\n",
       "       [[1., 1., 1.],\n",
       "        [1., 1., 1.],\n",
       "        [1., 1., 1.],\n",
       "        ...,\n",
       "        [1., 1., 1.],\n",
       "        [1., 1., 1.],\n",
       "        [1., 1., 1.]]])"
      ]
     },
     "execution_count": 94,
     "metadata": {},
     "output_type": "execute_result"
    }
   ],
   "source": [
    "rect"
   ]
  },
  {
   "cell_type": "code",
   "execution_count": 95,
   "id": "1cdb2eb4-13b5-44b0-8473-20536a04a27f",
   "metadata": {},
   "outputs": [
    {
     "data": {
      "text/plain": [
       "-1"
      ]
     },
     "execution_count": 95,
     "metadata": {},
     "output_type": "execute_result"
    }
   ],
   "source": [
    "cv2.imshow(\"RECTANGLE\", rect)\n",
    "cv2.waitKey(-1)"
   ]
  },
  {
   "cell_type": "code",
   "execution_count": null,
   "id": "28b1a68b-4c19-4525-9ac1-f79710f77b2f",
   "metadata": {},
   "outputs": [],
   "source": []
  }
 ],
 "metadata": {
  "kernelspec": {
   "display_name": "Python 3 (ipykernel)",
   "language": "python",
   "name": "python3"
  },
  "language_info": {
   "codemirror_mode": {
    "name": "ipython",
    "version": 3
   },
   "file_extension": ".py",
   "mimetype": "text/x-python",
   "name": "python",
   "nbconvert_exporter": "python",
   "pygments_lexer": "ipython3",
   "version": "3.12.4"
  }
 },
 "nbformat": 4,
 "nbformat_minor": 5
}
